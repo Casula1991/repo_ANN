{
 "cells": [
  {
   "cell_type": "code",
   "execution_count": 1,
   "id": "44c43038",
   "metadata": {},
   "outputs": [],
   "source": [
    "import pandas as pd\n",
    "import numpy as np\n",
    "import matplotlib.pyplot as plt\n",
    "import tensorflow as tf"
   ]
  },
  {
   "cell_type": "code",
   "execution_count": 2,
   "id": "c00c4f38",
   "metadata": {},
   "outputs": [],
   "source": [
    "def load_binary_classif():\n",
    "    from sklearn.datasets import load_breast_cancer\n",
    "    from sklearn.preprocessing import StandardScaler\n",
    "    X = load_breast_cancer().data\n",
    "    y = load_breast_cancer().target\n",
    "    st = StandardScaler()\n",
    "    st.fit(X)\n",
    "    X = st.transform(X)\n",
    "    return X, y\n",
    "\n",
    "def load_multiclassif():\n",
    "    mnist = tf.keras.datasets.mnist\n",
    "    (xtrain, ytrain), (xtest, ytest) = mnist.load_data()\n",
    "    xtrain = xtrain / 255.\n",
    "    xtest = xtest / 255.\n",
    "    return xtrain, ytrain, xtest, ytest"
   ]
  },
  {
   "cell_type": "code",
   "execution_count": 3,
   "id": "17bb0aad",
   "metadata": {},
   "outputs": [],
   "source": [
    "class ANN():\n",
    "    \n",
    "    def __init__(self, layers, activation_function, kind, num_classes = None):\n",
    "        \"\"\"\n",
    "        layers = list with the number of neurons per layers / the length of the list is the amount of hidden layers\n",
    "        activation_function = from keras;\n",
    "        kind = ['regression', 'binary_classif','multiclass_classif']\n",
    "        \"\"\"\n",
    "        self.layers = layers\n",
    "        self.activation_function = activation_function\n",
    "        self.kind = kind\n",
    "        self.num_classes = num_classes\n",
    "        self.model = None\n",
    "        self.res = None\n",
    "    \n",
    "    def fit(self, X, y, epochs, val_split, optimizer, metrics_tracking):\n",
    "        D = X.shape[1]\n",
    "        input_layer = tf.keras.layers.Input(shape = (D,))\n",
    "        hidden_layers = [tf.keras.layers.Dense(x, activation = self.activation_function) for x in self.layers]\n",
    "        \n",
    "        if self.kind == 'regression':\n",
    "            output_layer = tf.keras.layers.Dense(1)\n",
    "            model = tf.keras.models.Sequential([input_layer] + hidden_layers + [output_layer])\n",
    "            model.compile(optimizer = optimizer, \n",
    "                          loss = 'mse', \n",
    "                          metrics = metrics_tracking)\n",
    "            \n",
    "        if self.kind == 'binary_classif':\n",
    "            output_layer = tf.keras.layers.Dense(1, activation = 'sigmoid')\n",
    "            model = tf.keras.models.Sequential([input_layer] + hidden_layers + [output_layer])\n",
    "            model.compile(optimizer = optimizer, \n",
    "                          loss = 'binary_crossentropy', \n",
    "                          metrics = metrics_tracking)\n",
    "            \n",
    "        if self.kind == 'multiclass_classif':\n",
    "            output_layer = tf.keras.layers.Dense(self.num_classes, activation = 'softmax')\n",
    "            model = tf.keras.models.Sequential([input_layer] + hidden_layers + [output_layer])\n",
    "            model.compile(optimizer = optimizer, \n",
    "                          loss = 'sparse_categorical_crossentropy', \n",
    "                          metrics = metrics_tracking)\n",
    "\n",
    "        res = model.fit(X, y, epochs = epochs, validation_split = val_split)\n",
    "        self.res = res\n",
    "        self.model = model\n",
    "        \n",
    "    def predict(self, X):\n",
    "        if self.model == None:\n",
    "            print('Train it first.')\n",
    "        else:\n",
    "            return self.model.predict(X)"
   ]
  },
  {
   "cell_type": "code",
   "execution_count": 4,
   "id": "0ef1cfdd",
   "metadata": {},
   "outputs": [],
   "source": [
    "X, y = load_binary_classif()"
   ]
  },
  {
   "cell_type": "code",
   "execution_count": 5,
   "id": "dc934fdb",
   "metadata": {
    "scrolled": true
   },
   "outputs": [
    {
     "name": "stdout",
     "output_type": "stream",
     "text": [
      "Epoch 1/10\n",
      "12/12 [==============================] - 1s 17ms/step - loss: 0.6769 - binary_crossentropy: 0.6769 - val_loss: 0.7697 - val_binary_crossentropy: 0.7697\n",
      "Epoch 2/10\n",
      "12/12 [==============================] - 0s 4ms/step - loss: 0.6090 - binary_crossentropy: 0.6090 - val_loss: 0.6973 - val_binary_crossentropy: 0.6973\n",
      "Epoch 3/10\n",
      "12/12 [==============================] - 0s 4ms/step - loss: 0.5598 - binary_crossentropy: 0.5598 - val_loss: 0.6418 - val_binary_crossentropy: 0.6418\n",
      "Epoch 4/10\n",
      "12/12 [==============================] - 0s 4ms/step - loss: 0.5205 - binary_crossentropy: 0.5205 - val_loss: 0.5961 - val_binary_crossentropy: 0.5961\n",
      "Epoch 5/10\n",
      "12/12 [==============================] - 0s 4ms/step - loss: 0.4833 - binary_crossentropy: 0.4833 - val_loss: 0.5545 - val_binary_crossentropy: 0.5545\n",
      "Epoch 6/10\n",
      "12/12 [==============================] - 0s 4ms/step - loss: 0.4464 - binary_crossentropy: 0.4464 - val_loss: 0.5139 - val_binary_crossentropy: 0.5139\n",
      "Epoch 7/10\n",
      "12/12 [==============================] - 0s 4ms/step - loss: 0.4088 - binary_crossentropy: 0.4088 - val_loss: 0.4706 - val_binary_crossentropy: 0.4706\n",
      "Epoch 8/10\n",
      "12/12 [==============================] - 0s 4ms/step - loss: 0.3689 - binary_crossentropy: 0.3689 - val_loss: 0.4239 - val_binary_crossentropy: 0.4239\n",
      "Epoch 9/10\n",
      "12/12 [==============================] - 0s 4ms/step - loss: 0.3272 - binary_crossentropy: 0.3272 - val_loss: 0.3755 - val_binary_crossentropy: 0.3755\n",
      "Epoch 10/10\n",
      "12/12 [==============================] - 0s 4ms/step - loss: 0.2836 - binary_crossentropy: 0.2836 - val_loss: 0.3260 - val_binary_crossentropy: 0.3260\n"
     ]
    }
   ],
   "source": [
    "ann = ANN(layers = [10,10,10], activation_function = 'relu', kind = 'binary_classif')\n",
    "\n",
    "ann.fit(X, \n",
    "        y, \n",
    "        epochs = 10, \n",
    "        val_split = 0.33, \n",
    "        optimizer = tf.keras.optimizers.Adam(), \n",
    "        metrics_tracking = [tf.keras.metrics.binary_crossentropy])"
   ]
  },
  {
   "cell_type": "code",
   "execution_count": 13,
   "id": "70a87809",
   "metadata": {},
   "outputs": [],
   "source": [
    "#ann.predict(X)"
   ]
  },
  {
   "cell_type": "code",
   "execution_count": null,
   "id": "2306a135",
   "metadata": {},
   "outputs": [],
   "source": []
  },
  {
   "cell_type": "code",
   "execution_count": 7,
   "id": "fa3099bc",
   "metadata": {},
   "outputs": [],
   "source": [
    "Xtrain, ytrain, Xtest, ytest = load_multiclassif()\n",
    "Xtrain = Xtrain.reshape(Xtrain.shape[0], -1)\n",
    "Xtest = Xtest.reshape(Xtest.shape[0], -1)"
   ]
  },
  {
   "cell_type": "code",
   "execution_count": 8,
   "id": "fd910890",
   "metadata": {},
   "outputs": [
    {
     "data": {
      "text/plain": [
       "2"
      ]
     },
     "execution_count": 8,
     "metadata": {},
     "output_type": "execute_result"
    }
   ],
   "source": [
    "len(np.unique(y))"
   ]
  },
  {
   "cell_type": "code",
   "execution_count": 9,
   "id": "a999d709",
   "metadata": {},
   "outputs": [
    {
     "name": "stdout",
     "output_type": "stream",
     "text": [
      "Epoch 1/10\n",
      "1257/1257 [==============================] - 3s 2ms/step - loss: 0.8310 - sparse_categorical_crossentropy: 0.8310 - val_loss: 0.4592 - val_sparse_categorical_crossentropy: 0.4592\n",
      "Epoch 2/10\n",
      "1257/1257 [==============================] - 2s 2ms/step - loss: 0.3926 - sparse_categorical_crossentropy: 0.3926 - val_loss: 0.3510 - val_sparse_categorical_crossentropy: 0.3510\n",
      "Epoch 3/10\n",
      "1257/1257 [==============================] - 2s 2ms/step - loss: 0.3289 - sparse_categorical_crossentropy: 0.3289 - val_loss: 0.3124 - val_sparse_categorical_crossentropy: 0.3124\n",
      "Epoch 4/10\n",
      "1257/1257 [==============================] - 2s 2ms/step - loss: 0.2952 - sparse_categorical_crossentropy: 0.2952 - val_loss: 0.3064 - val_sparse_categorical_crossentropy: 0.3064\n",
      "Epoch 5/10\n",
      "1257/1257 [==============================] - 2s 2ms/step - loss: 0.2736 - sparse_categorical_crossentropy: 0.2736 - val_loss: 0.2813 - val_sparse_categorical_crossentropy: 0.2813\n",
      "Epoch 6/10\n",
      "1257/1257 [==============================] - 2s 2ms/step - loss: 0.2604 - sparse_categorical_crossentropy: 0.2604 - val_loss: 0.2787 - val_sparse_categorical_crossentropy: 0.2787\n",
      "Epoch 7/10\n",
      "1257/1257 [==============================] - 2s 2ms/step - loss: 0.2480 - sparse_categorical_crossentropy: 0.2480 - val_loss: 0.2727 - val_sparse_categorical_crossentropy: 0.2727\n",
      "Epoch 8/10\n",
      "1257/1257 [==============================] - 2s 2ms/step - loss: 0.2398 - sparse_categorical_crossentropy: 0.2398 - val_loss: 0.2723 - val_sparse_categorical_crossentropy: 0.2723\n",
      "Epoch 9/10\n",
      "1257/1257 [==============================] - 2s 2ms/step - loss: 0.2340 - sparse_categorical_crossentropy: 0.2340 - val_loss: 0.2662 - val_sparse_categorical_crossentropy: 0.2662\n",
      "Epoch 10/10\n",
      "1257/1257 [==============================] - 2s 2ms/step - loss: 0.2277 - sparse_categorical_crossentropy: 0.2277 - val_loss: 0.2633 - val_sparse_categorical_crossentropy: 0.2633\n"
     ]
    }
   ],
   "source": [
    "ann = ANN(layers = [10,10,10], activation_function = 'relu', kind = 'multiclass_classif', num_classes = 10)\n",
    "\n",
    "ann.fit(Xtrain, \n",
    "        ytrain, \n",
    "        epochs = 10, \n",
    "        val_split = 0.33, \n",
    "        optimizer = tf.keras.optimizers.Adam(), \n",
    "        metrics_tracking = [tf.keras.metrics.sparse_categorical_crossentropy])"
   ]
  },
  {
   "cell_type": "code",
   "execution_count": 10,
   "id": "3d313f36",
   "metadata": {},
   "outputs": [
    {
     "name": "stdout",
     "output_type": "stream",
     "text": [
      "313/313 [==============================] - 0s 917us/step\n"
     ]
    },
    {
     "data": {
      "text/plain": [
       "(10000, 10)"
      ]
     },
     "execution_count": 10,
     "metadata": {},
     "output_type": "execute_result"
    }
   ],
   "source": [
    "ann.predict(Xtest).shape"
   ]
  },
  {
   "cell_type": "code",
   "execution_count": 11,
   "id": "7a01fc37",
   "metadata": {},
   "outputs": [
    {
     "name": "stdout",
     "output_type": "stream",
     "text": [
      "313/313 [==============================] - 0s 876us/step\n"
     ]
    },
    {
     "data": {
      "text/plain": [
       "array([[2.46936077e-04, 1.73639671e-06, 1.12590868e-04, ...,\n",
       "        9.65054274e-01, 1.00849356e-05, 2.47419681e-02],\n",
       "       [1.29745911e-06, 1.05890686e-04, 9.97537374e-01, ...,\n",
       "        4.24859259e-10, 1.21783273e-07, 1.33589049e-13],\n",
       "       [2.93655394e-05, 9.87826884e-01, 1.60749757e-03, ...,\n",
       "        6.96658448e-04, 4.23276704e-03, 1.32338464e-04],\n",
       "       ...,\n",
       "       [6.08946635e-08, 5.51149640e-07, 3.00366878e-08, ...,\n",
       "        1.64962174e-07, 3.45369405e-03, 4.10738140e-02],\n",
       "       [6.77468790e-07, 5.63107431e-04, 3.88226985e-11, ...,\n",
       "        4.56900989e-10, 2.11073179e-03, 1.08636759e-05],\n",
       "       [7.96527456e-06, 1.69712075e-05, 3.54338299e-05, ...,\n",
       "        1.95011549e-10, 6.00837484e-05, 6.25480290e-09]], dtype=float32)"
      ]
     },
     "execution_count": 11,
     "metadata": {},
     "output_type": "execute_result"
    }
   ],
   "source": [
    "ann.predict(Xtest)"
   ]
  },
  {
   "cell_type": "code",
   "execution_count": null,
   "id": "527b6ed8",
   "metadata": {},
   "outputs": [],
   "source": []
  },
  {
   "cell_type": "code",
   "execution_count": 12,
   "id": "eea74571",
   "metadata": {},
   "outputs": [
    {
     "name": "stdout",
     "output_type": "stream",
     "text": [
      "313/313 [==============================] - 0s 914us/step\n",
      "test acc: 0.9255\n"
     ]
    }
   ],
   "source": [
    "preds = np.argmax(ann.predict(Xtest), axis = 1)\n",
    "\n",
    "acc__ = sum(preds == ytest) / len(ytest)\n",
    "print('test acc:', acc__)"
   ]
  },
  {
   "cell_type": "code",
   "execution_count": null,
   "id": "5a38f7ce",
   "metadata": {},
   "outputs": [],
   "source": []
  },
  {
   "cell_type": "code",
   "execution_count": null,
   "id": "1f383250",
   "metadata": {},
   "outputs": [],
   "source": []
  }
 ],
 "metadata": {
  "kernelspec": {
   "display_name": "Python 3 (ipykernel)",
   "language": "python",
   "name": "python3"
  },
  "language_info": {
   "codemirror_mode": {
    "name": "ipython",
    "version": 3
   },
   "file_extension": ".py",
   "mimetype": "text/x-python",
   "name": "python",
   "nbconvert_exporter": "python",
   "pygments_lexer": "ipython3",
   "version": "3.9.13"
  }
 },
 "nbformat": 4,
 "nbformat_minor": 5
}
